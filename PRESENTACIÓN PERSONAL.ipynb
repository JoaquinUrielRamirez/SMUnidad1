{
 "cells": [
  {
   "cell_type": "markdown",
   "id": "45d1c5e8",
   "metadata": {},
   "source": [
    "# Presentación personal"
   ]
  },
  {
   "cell_type": "markdown",
   "id": "c48d4ee8",
   "metadata": {},
   "source": [
    "## Joaquín Uriel Ramírez Pérez\n",
    "\n",
    "Tengo 18 años curso tercer semestre de **ingeniería financiera** y espero de este curso espero seguir creciendo en mis conocimientos de programación y seguirles dando un uso práctico."
   ]
  },
  {
   "cell_type": "markdown",
   "id": "44f1581f",
   "metadata": {},
   "source": []
  },
  {
   "cell_type": "markdown",
   "id": "95ceff31",
   "metadata": {},
   "source": []
  },
  {
   "cell_type": "markdown",
   "id": "677f8dd5",
   "metadata": {},
   "source": [
    "![](https://www.google.com/imgres?imgurl=https%3A%2F%2Fupload.wikimedia.org%2Fwikipedia%2Fcommons%2Fthumb%2F8%2F87%2FNASDAQ_Logo.svg%2F1200px-NASDAQ_Logo.svg.png&imgrefurl=https%3A%2F%2Fes.m.wikipedia.org%2Fwiki%2FArchivo%3ANASDAQ_Logo.svg&tbnid=3l96t1G95UwRGM&vet=12ahUKEwjLx8DA88n5AhVekmoFHfobCNgQMygDegUIARDrAQ..i&docid=31NiKkrfAM72aM&w=1200&h=341&q=nasdaq&ved=2ahUKEwjLx8DA88n5AhVekmoFHfobCNgQMygDegUIARDrAQ)"
   ]
  },
  {
   "cell_type": "markdown",
   "id": "efa5b854",
   "metadata": {},
   "source": [
    "## Empresas de tecnología"
   ]
  },
  {
   "cell_type": "markdown",
   "id": "47da0339",
   "metadata": {},
   "source": [
    "En el transcurso de este siglo y a finales del siglo anterior las empresas que han tenido mayor crecimiento y que han acaparado más atención son las de *tecnología*. "
   ]
  },
  {
   "cell_type": "markdown",
   "id": "047781c2",
   "metadata": {},
   "source": [
    "Las tres empresas tecnológicas con mayor valor de mercado en la actualidad son:\n",
    "1. Apple.\n",
    "2. Microsoft.\n",
    "3. Alphabet."
   ]
  },
  {
   "cell_type": "markdown",
   "id": "bbd40104",
   "metadata": {},
   "source": [
    "Por otro lado las que mayor crecimiento en los últimos 5 años sin contar las empresas previamente mencionadas son:\n",
    "- Spotify\n",
    "- Tesla."
   ]
  },
  {
   "cell_type": "markdown",
   "id": "d4426bcd",
   "metadata": {},
   "source": [
    "Un concepto básico en las finanzas es el valor del dinero en el tiempo. Para esto existen múltiples formulas para calcular su valor en la actualidad. Las más precisas se dan en activos con rendimientos en tasa fija, por ejemplo bonos gubernamentales. Para calcular el valor presente de este activo se utiliza la siguiente fórmula:"
   ]
  },
  {
   "cell_type": "markdown",
   "id": "fc130dd0",
   "metadata": {},
   "source": [
    " $ Valor Presente = Valor Futuro / ((Tasa de rendimiento * Días de Plazo / 360) + 1) $"
   ]
  },
  {
   "cell_type": "markdown",
   "id": "b44abe33",
   "metadata": {},
   "source": [
    "![](https://encrypted-tbn0.gstatic.com/images?q=tbn:ANd9GcTLbqt2FRe4-3GDU_ru3rs-d_uXCz9wwCuSjh7Ci3o68BeQbhk0KGC7RLDtAqMQKANhX0c&usqp=CAU)"
   ]
  },
  {
   "cell_type": "code",
   "execution_count": null,
   "id": "6874f199",
   "metadata": {},
   "outputs": [],
   "source": []
  }
 ],
 "metadata": {
  "kernelspec": {
   "display_name": "Python 3 (ipykernel)",
   "language": "python",
   "name": "python3"
  },
  "language_info": {
   "codemirror_mode": {
    "name": "ipython",
    "version": 3
   },
   "file_extension": ".py",
   "mimetype": "text/x-python",
   "name": "python",
   "nbconvert_exporter": "python",
   "pygments_lexer": "ipython3",
   "version": "3.9.12"
  }
 },
 "nbformat": 4,
 "nbformat_minor": 5
}
